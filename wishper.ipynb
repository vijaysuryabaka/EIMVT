{
 "cells": [
  {
   "cell_type": "code",
   "execution_count": 1,
   "metadata": {},
   "outputs": [
    {
     "name": "stdout",
     "output_type": "stream",
     "text": [
      "Collecting git+https://github.com/openai/whisper.git\n",
      "  Cloning https://github.com/openai/whisper.git to c:\\users\\shara\\appdata\\local\\temp\\pip-req-build-9ef8nflg\n",
      "  Resolved https://github.com/openai/whisper.git to commit ba3f3cd54b0e5b8ce1ab3de13e32122d0d5f98ab\n",
      "  Installing build dependencies: started\n",
      "  Installing build dependencies: finished with status 'done'\n",
      "  Getting requirements to build wheel: started\n",
      "  Getting requirements to build wheel: finished with status 'done'\n",
      "  Installing backend dependencies: started\n",
      "  Installing backend dependencies: finished with status 'done'\n",
      "  Preparing metadata (pyproject.toml): started\n",
      "  Preparing metadata (pyproject.toml): finished with status 'done'\n",
      "Requirement already satisfied: numba in d:\\unisys\\.venv\\lib\\site-packages (from openai-whisper==20231117) (0.59.0)\n",
      "Requirement already satisfied: numpy in d:\\unisys\\.venv\\lib\\site-packages (from openai-whisper==20231117) (1.26.4)\n",
      "Requirement already satisfied: torch in d:\\unisys\\.venv\\lib\\site-packages (from openai-whisper==20231117) (2.2.0)\n",
      "Requirement already satisfied: tqdm in d:\\unisys\\.venv\\lib\\site-packages (from openai-whisper==20231117) (4.66.2)\n",
      "Requirement already satisfied: more-itertools in d:\\unisys\\.venv\\lib\\site-packages (from openai-whisper==20231117) (10.2.0)\n",
      "Requirement already satisfied: tiktoken in d:\\unisys\\.venv\\lib\\site-packages (from openai-whisper==20231117) (0.6.0)\n",
      "Requirement already satisfied: llvmlite<0.43,>=0.42.0dev0 in d:\\unisys\\.venv\\lib\\site-packages (from numba->openai-whisper==20231117) (0.42.0)\n",
      "Requirement already satisfied: regex>=2022.1.18 in d:\\unisys\\.venv\\lib\\site-packages (from tiktoken->openai-whisper==20231117) (2023.12.25)\n",
      "Requirement already satisfied: requests>=2.26.0 in d:\\unisys\\.venv\\lib\\site-packages (from tiktoken->openai-whisper==20231117) (2.31.0)\n",
      "Requirement already satisfied: filelock in d:\\unisys\\.venv\\lib\\site-packages (from torch->openai-whisper==20231117) (3.13.1)\n",
      "Requirement already satisfied: typing-extensions>=4.8.0 in d:\\unisys\\.venv\\lib\\site-packages (from torch->openai-whisper==20231117) (4.9.0)\n",
      "Requirement already satisfied: sympy in d:\\unisys\\.venv\\lib\\site-packages (from torch->openai-whisper==20231117) (1.12)\n",
      "Requirement already satisfied: networkx in d:\\unisys\\.venv\\lib\\site-packages (from torch->openai-whisper==20231117) (3.2.1)\n",
      "Requirement already satisfied: jinja2 in d:\\unisys\\.venv\\lib\\site-packages (from torch->openai-whisper==20231117) (3.1.3)\n",
      "Requirement already satisfied: fsspec in d:\\unisys\\.venv\\lib\\site-packages (from torch->openai-whisper==20231117) (2024.2.0)\n",
      "Requirement already satisfied: colorama in d:\\unisys\\.venv\\lib\\site-packages (from tqdm->openai-whisper==20231117) (0.4.6)\n",
      "Requirement already satisfied: charset-normalizer<4,>=2 in d:\\unisys\\.venv\\lib\\site-packages (from requests>=2.26.0->tiktoken->openai-whisper==20231117) (3.3.2)\n",
      "Requirement already satisfied: idna<4,>=2.5 in d:\\unisys\\.venv\\lib\\site-packages (from requests>=2.26.0->tiktoken->openai-whisper==20231117) (3.6)\n",
      "Requirement already satisfied: urllib3<3,>=1.21.1 in d:\\unisys\\.venv\\lib\\site-packages (from requests>=2.26.0->tiktoken->openai-whisper==20231117) (2.2.0)\n",
      "Requirement already satisfied: certifi>=2017.4.17 in d:\\unisys\\.venv\\lib\\site-packages (from requests>=2.26.0->tiktoken->openai-whisper==20231117) (2024.2.2)\n",
      "Requirement already satisfied: MarkupSafe>=2.0 in d:\\unisys\\.venv\\lib\\site-packages (from jinja2->torch->openai-whisper==20231117) (2.1.5)\n",
      "Requirement already satisfied: mpmath>=0.19 in d:\\unisys\\.venv\\lib\\site-packages (from sympy->torch->openai-whisper==20231117) (1.3.0)\n"
     ]
    },
    {
     "name": "stderr",
     "output_type": "stream",
     "text": [
      "  Running command git clone --filter=blob:none --quiet https://github.com/openai/whisper.git 'C:\\Users\\shara\\AppData\\Local\\Temp\\pip-req-build-9ef8nflg'\n"
     ]
    }
   ],
   "source": [
    "!pip install git+https://github.com/openai/whisper.git"
   ]
  },
  {
   "cell_type": "code",
   "execution_count": 3,
   "metadata": {},
   "outputs": [],
   "source": [
    "import whisper\n",
    "\n",
    "mod = whisper.load_model(\"base\")\n",
    "res = mod.transcribe(\"WhatsApp Audio 2024-02-14 at 15.09.25_910a2470 (online-audio-converter.com).mp3\")\n",
    "\n",
    "with open(\"transcription.txt\",\"w\") as f:\n",
    "    f.write(res[\"text\"])"
   ]
  },
  {
   "cell_type": "code",
   "execution_count": null,
   "metadata": {},
   "outputs": [],
   "source": []
  }
 ],
 "metadata": {
  "kernelspec": {
   "display_name": ".venv",
   "language": "python",
   "name": "python3"
  },
  "language_info": {
   "codemirror_mode": {
    "name": "ipython",
    "version": 3
   },
   "file_extension": ".py",
   "mimetype": "text/x-python",
   "name": "python",
   "nbconvert_exporter": "python",
   "pygments_lexer": "ipython3",
   "version": "3.10.5"
  }
 },
 "nbformat": 4,
 "nbformat_minor": 2
}
